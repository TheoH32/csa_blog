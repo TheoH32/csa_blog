{
 "cells": [
  {
   "cell_type": "markdown",
   "metadata": {},
   "source": [
    "---\n",
    "layout: post\n",
    "title: Java FRQ Workshop 1\n",
    "description: frq, frq, frq\n",
    "---"
   ]
  },
  {
   "cell_type": "markdown",
   "metadata": {},
   "source": [
    "# Sign FRQ"
   ]
  },
  {
   "cell_type": "markdown",
   "metadata": {},
   "source": [
    "The getLines method returns a String containing the message broken into lines separated by\n",
    "semicolons (;) or returns null if the message is the empty string. The constructor parameter that\n",
    "contains the message to be displayed will not include any semicolons. As an example, in the first row of the\n",
    "preceding table, getLines would return \"Everything on s;ale, please com;e in\"\n",
    "No semicolon should appear at the end of the String returned by getlines."
   ]
  },
  {
   "cell_type": "code",
   "execution_count": 38,
   "metadata": {},
   "outputs": [
    {
     "name": "stdout",
     "output_type": "stream",
     "text": [
      "Number of lines: 3\n",
      "Lines:\n",
      "Hello; Worl;d!;\n"
     ]
    }
   ],
   "source": [
    "public class Sign {\n",
    "    // Initial variables\n",
    "    private int lineWidth;\n",
    "    private String message;\n",
    "\n",
    "    // Constructor with parameter validation\n",
    "    public Sign(int lineWidth, String message) {\n",
    "        if (lineWidth <= 0) {\n",
    "            throw new IllegalArgumentException(\"Line width must be positive\");\n",
    "        }\n",
    "        if (message == null) {\n",
    "            throw new IllegalArgumentException(\"Message cannot be null\");\n",
    "        }\n",
    "        this.lineWidth = lineWidth;\n",
    "        this.message = message;\n",
    "    }\n",
    "\n",
    "    // Calculate number of lines needed for the message\n",
    "    public int numberOfLines() {\n",
    "        int lengthOfMessage = message.length();\n",
    "        int linesNeeded = 1;\n",
    "        while (lengthOfMessage > lineWidth) {\n",
    "            linesNeeded += 1;\n",
    "            lengthOfMessage -= lineWidth;\n",
    "        }\n",
    "        return linesNeeded;\n",
    "    }\n",
    "\n",
    "    // Generate lines based on line width\n",
    "    public String getLines() {\n",
    "        if (message.length() == 0) {\n",
    "            return null;\n",
    "        }\n",
    "        StringBuilder output = new StringBuilder();\n",
    "        int startIndex = 0;\n",
    "        while (startIndex < message.length()) {\n",
    "            int endIndex = Math.min(startIndex + lineWidth, message.length());\n",
    "            output.append(message.substring(startIndex, endIndex)).append(\";\");\n",
    "            startIndex = endIndex;\n",
    "        }\n",
    "        return output.toString();\n",
    "    }\n",
    "\n",
    "    public static void main(String[] args) {\n",
    "        Sign sign = new Sign(5, \"Hello World!\");\n",
    "        System.out.println(\"Number of lines: \" + sign.numberOfLines());\n",
    "        System.out.println(\"Lines:\\n\" + sign.getLines());\n",
    "    }\n",
    "}\n",
    "\n",
    "Sign.main(null)"
   ]
  },
  {
   "cell_type": "markdown",
   "metadata": {},
   "source": [
    "# Textbook Inheritance FRQ"
   ]
  },
  {
   "cell_type": "code",
   "execution_count": 35,
   "metadata": {},
   "outputs": [
    {
     "name": "stdout",
     "output_type": "stream",
     "text": [
      "Book Title: Introduction to Java\n",
      "Book Info: Introduction to Java-29.99\n",
      "Textbook Title: Data Structures and Algorithms\n",
      "Textbook Edition: 2\n",
      "Textbook Info: Data Structures and Algorithms-49.99-2\n",
      "Can substitute for textbook2? true\n"
     ]
    }
   ],
   "source": [
    "public class Book {\n",
    "    private String title;\n",
    "    private double price;\n",
    "\n",
    "    public Book(String bookTitle, double bookPrice) {\n",
    "        this.title = bookTitle; // Initialize the title field\n",
    "        this.price = bookPrice;\n",
    "    }\n",
    "\n",
    "    public String getTitle() { return title; }\n",
    "\n",
    "    public String getBookInfo() {\n",
    "        return title + \"-\" + price;\n",
    "    }\n",
    "}\n",
    "\n",
    "public class Textbook extends Book {\n",
    "    private int edition;\n",
    "\n",
    "    public Textbook(String bookTitle, double bookPrice, int edition) {\n",
    "        super(bookTitle, bookPrice);\n",
    "        this.edition = edition;\n",
    "    }\n",
    "\n",
    "    public int getEdition() {\n",
    "        return edition;\n",
    "    }\n",
    "\n",
    "    // Takes the main constructor\n",
    "    public String getBookInfo() {\n",
    "        return super.getBookInfo() + \"-\" + edition;\n",
    "    }\n",
    "\n",
    "    public boolean canSubstituteFor(Textbook otherTextbook) {\n",
    "        return this.getTitle().equals(otherTextbook.getTitle()) &&\n",
    "                this.getEdition() >= otherTextbook.getEdition();\n",
    "    }\n",
    "}\n",
    "\n",
    "public class BookTester {\n",
    "    public static void main(String[] args) {\n",
    "        // Create a Book object\n",
    "        Book book1 = new Book(\"Introduction to Java\", 29.99);\n",
    "        System.out.println(\"Book Title: \" + book1.getTitle());\n",
    "        System.out.println(\"Book Info: \" + book1.getBookInfo());\n",
    "\n",
    "        // Create a Textbook object\n",
    "        Textbook textbook1 = new Textbook(\"Data Structures and Algorithms\", 49.99, 2);\n",
    "        System.out.println(\"Textbook Title: \" + textbook1.getTitle());\n",
    "        System.out.println(\"Textbook Edition: \" + textbook1.getEdition());\n",
    "        System.out.println(\"Textbook Info: \" + textbook1.getBookInfo());\n",
    "\n",
    "        // Test canSubstituteFor method\n",
    "        Textbook textbook2 = new Textbook(\"Data Structures and Algorithms\", 59.99, 1);\n",
    "        System.out.println(\"Can substitute for textbook2? \" + textbook1.canSubstituteFor(textbook2));\n",
    "    }\n",
    "}\n",
    "\n",
    "BookTester.main(null)"
   ]
  },
  {
   "cell_type": "markdown",
   "metadata": {},
   "source": [
    "# Notes\n",
    "- `super` is used to call the constructor of the superclass\n",
    "- `this` is used to call the constructor of the current class\n",
    "- research primitive and wrapper differences"
   ]
  },
  {
   "cell_type": "markdown",
   "metadata": {},
   "source": [
    "# Reflection \n",
    "\n",
    "## FRQ 1\n",
    "Constructor with Parameter Validation: The code demonstrates how to create a constructor that validates its parameters. This ensures that the object is created with valid initial values, in this case, a positive line width and a non-null message. Learning from this includes understanding the importance of parameter validation in constructors to maintain object integrity.\n",
    "\n",
    "Calculating Number of Lines: The numberOfLines method calculates the number of lines needed to display the message based on the specified line width. This involves iterating through the message and counting how many lines are required. This learning point highlights the use of methods to perform calculations or operations based on object properties.\n",
    "\n",
    "Generating Lines for Display: The getLines method generates lines of text based on the specified line width. It uses a StringBuilder to construct the lines and handles cases where the message length exceeds the line width. This part of the code teaches about string manipulation and how to format text for display.\n",
    "\n",
    "Main Method and Testing: The main method is used to create an instance of the Sign class and test its functionality by printing the number of lines needed for the message and displaying the generated lines. This reinforces the concept of using a main method for testing and running the program.\n",
    "\n",
    "## FRQ 2\n",
    "Inheritance and Constructors: The code demonstrates inheritance in Java, where the Textbook class extends the Book class. Inheritance allows Textbook to inherit the fields and methods of Book, and the use of super() in the constructor of Textbook initializes the fields inherited from Book. This reflects a key concept in object-oriented programming for code reusability and organization.\n",
    "\n",
    "Method Overriding: The getBookInfo() method is overridden in the Textbook class to include additional information about the edition. This showcases method overriding, where a subclass provides a specific implementation for a method inherited from its superclass. In this case, Textbook adds edition information to the book info.\n",
    "\n",
    "Polymorphism: The canSubstituteFor() method in the Textbook class demonstrates polymorphism by accepting a parameter of type Textbook (specific type) and comparing it with the current Textbook instance. This method checks if one textbook can substitute for another based on their titles and editions. Polymorphism allows for flexibility and code reuse by treating objects of different subclasses in a unified way.\n",
    "\n",
    "Testing in BookTester: The BookTester class is used to test the functionality of Book and Textbook objects. It creates instances of these classes and calls their methods to print information and test the canSubstituteFor() method. This reflects good software testing practices by using a separate testing class.\n",
    "\n",
    "Encapsulation: Both Book and Textbook classes encapsulate their data (title, price, edition) by making the fields private and providing getter methods (getTitle(), getEdition()) to access the data. Encapsulation helps in maintaining data integrity and hiding implementation details."
   ]
  }
 ],
 "metadata": {
  "kernelspec": {
   "display_name": "Java",
   "language": "java",
   "name": "java"
  },
  "language_info": {
   "codemirror_mode": "java",
   "file_extension": ".jshell",
   "mimetype": "text/x-java-source",
   "name": "java",
   "pygments_lexer": "java",
   "version": "17.0.9+0"
  }
 },
 "nbformat": 4,
 "nbformat_minor": 2
}
