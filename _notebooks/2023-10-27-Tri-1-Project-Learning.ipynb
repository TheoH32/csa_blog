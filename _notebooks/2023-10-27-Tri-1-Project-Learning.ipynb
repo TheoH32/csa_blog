{
 "cells": [
  {
   "cell_type": "markdown",
   "metadata": {},
   "source": [
    "# \"Blogging may waste your time now, but will save your future later\" -Mr. Mortensen"
   ]
  },
  {
   "cell_type": "markdown",
   "metadata": {},
   "source": [
    "## Learning Objects\n",
    "\n",
    "Frontend\n",
    "- Login\n",
    "- Signup\n",
    "\n",
    "Backend\n",
    "- User Database\n",
    "- API Controller\n",
    "\n",
    "Other\n",
    "- Datascraping"
   ]
  }
 ],
 "metadata": {
  "language_info": {
   "name": "python"
  }
 },
 "nbformat": 4,
 "nbformat_minor": 2
}
