{
 "cells": [
  {
   "cell_type": "markdown",
   "metadata": {},
   "source": [
    "---\n",
    "layout: post\n",
    "title: Tri 1 Project Learning\n",
    "description: so many blogs\n",
    "permalink: /trimester1learning\n",
    "---"
   ]
  },
  {
   "cell_type": "markdown",
   "metadata": {},
   "source": [
    "# \"Blogging may waste your time now, but will save your future later\" -Mr. Mortensen"
   ]
  },
  {
   "cell_type": "markdown",
   "metadata": {},
   "source": [
    "# Major Topics\n",
    "\n",
    "- [Sign In]()\n",
    "- [Sign Up]()"
   ]
  },
  {
   "cell_type": "markdown",
   "metadata": {},
   "source": [
    "# Github Analytics"
   ]
  },
  {
   "cell_type": "markdown",
   "metadata": {},
   "source": [
    "# College Board Multiple Choice"
   ]
  },
  {
   "cell_type": "markdown",
   "metadata": {},
   "source": [
    "# Scrum Board and Organization\n",
    "\n",
    "[Board]()"
   ]
  },
  {
   "cell_type": "markdown",
   "metadata": {},
   "source": [
    "# Grades\n",
    "- U3: .95\n",
    "- U4: .90\n",
    "- U5: .93\n",
    "- U6: .95\n",
    "- U7: .9\n",
    "- U8: .9\n",
    "\n",
    "Mean: .92"
   ]
  }
 ],
 "metadata": {
  "language_info": {
   "name": "python"
  }
 },
 "nbformat": 4,
 "nbformat_minor": 2
}
