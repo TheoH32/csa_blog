{
 "cells": [
  {
   "cell_type": "code",
   "execution_count": 2,
   "metadata": {
    "vscode": {
     "languageId": "java"
    }
   },
   "outputs": [],
   "source": [
    "import java.util.Random;\n",
    "\n",
    "public class RandomQuoteGenerator {\n",
    "    public static void main(String[] args) {\n",
    "        String[] quotes = {\n",
    "            \"The only way to do great work is to love what you do. - Steve Jobs\",\n",
    "            \"Innovation distinguishes between a leader and a follower. - Steve Jobs\",\n",
    "            \"The future belongs to those who believe in the beauty of their dreams. - Eleanor Roosevelt\",\n",
    "            \"The only limit to our realization of tomorrow will be our doubts of today. - Franklin D. Roosevelt\",\n",
    "            \"Success is not final, failure is not fatal: It is the courage to continue that counts. - Winston Churchill\"\n",
    "        };\n",
    "\n",
    "        Random random = new Random();\n",
    "        int randomIndex = random.nextInt(quotes.length);\n",
    "\n",
    "        String randomQuote = quotes[randomIndex];\n",
    "        System.out.println(\"Random Quote: \" + randomQuote);\n",
    "    }\n",
    "}\n"
   ]
  }
 ],
 "metadata": {
  "kernelspec": {
   "display_name": "Java",
   "language": "java",
   "name": "java"
  },
  "language_info": {
   "codemirror_mode": "java",
   "file_extension": ".jshell",
   "mimetype": "text/x-java-source",
   "name": "Java",
   "pygments_lexer": "java",
   "version": "20.0.1"
  },
  "orig_nbformat": 4
 },
 "nbformat": 4,
 "nbformat_minor": 2
}
