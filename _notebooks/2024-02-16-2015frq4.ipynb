{
 "cells": [
  {
   "cell_type": "markdown",
   "metadata": {},
   "source": [
    "---\n",
    "toc: True\n",
    "comments: True\n",
    "layout: post\n",
    "title: Collegeboard 2015 FRQ 4\n",
    "description: Collegeboard 2015 4 FRQ Questions and Answers\n",
    "courses: {'labnotebook': {'week': 24}}\n",
    "type: tangibles\n",
    "---"
   ]
  },
  {
   "cell_type": "markdown",
   "metadata": {},
   "source": [
    "## Question 4\n",
    "\n",
    "**Type:** Classes\n",
    "\n",
    "**Blog**\n",
    "My thoughts on how to implement classes and how to take advantage of Java's object-oriented structure to make it a more useful programming language were greatly influenced by this question. This question challenged me to use these ideas to develop a versatile system for determining whether numbers belong to any of a set of ranges, highlighting the power of abstraction and composition in object-oriented design. It also examined the implementation of interfaces and the composite pattern through the NumberGroup interface and its implementations.\n",
    "\n",
    "\n",
    "### Part A\n",
    "\n",
    "**Create an Interface**\n",
    "\n",
    "![Question 4A](https://rackets-assets.vercel.app/assets/2015frq/4a.png)"
   ]
  },
  {
   "cell_type": "code",
   "execution_count": 1,
   "metadata": {},
   "outputs": [],
   "source": [
    "public interface NumberGroup\n",
    "{\n",
    "     public boolean contains(int num);\n",
    "}"
   ]
  },
  {
   "cell_type": "code",
   "execution_count": 3,
   "metadata": {},
   "outputs": [
    {
     "name": "stdout",
     "output_type": "stream",
     "text": [
      "Number 5 is in range: true\n",
      "Number 10 is in range: true\n",
      "Number 7 is in range: true\n",
      "Number 4 is in range: false\n",
      "Number 11 is in range: false\n"
     ]
    }
   ],
   "source": [
    "public interface NumberGroup {\n",
    "    boolean contains(int num);\n",
    "}\n",
    "\n",
    "public class Range implements NumberGroup {\n",
    "    private int min;\n",
    "    private int max;\n",
    "\n",
    "    public Range(int min, int max) {\n",
    "        this.min = min;\n",
    "        this.max = max;\n",
    "    }\n",
    "\n",
    "    @Override\n",
    "    public boolean contains(int num) {\n",
    "        return num >= min && num <= max;\n",
    "    }\n",
    "}\n",
    "\n",
    "public class MainTesting {\n",
    "    public static void main(String[] args) {\n",
    "        NumberGroup range = new Range(5, 10);\n",
    "\n",
    "        testContains(range, 5);  // true\n",
    "        testContains(range, 10); // true\n",
    "        testContains(range, 7);  // true\n",
    "        testContains(range, 4);  // false\n",
    "        testContains(range, 11); // false\n",
    "    }\n",
    "\n",
    "    private static void testContains(NumberGroup range, int num) {\n",
    "        System.out.println(\"Number \" + num + \" is in range: \" + range.contains(num));\n",
    "    }\n",
    "}\n",
    "\n",
    "MainTesting.main(null)"
   ]
  },
  {
   "cell_type": "markdown",
   "metadata": {},
   "source": [
    "### Part B\n",
    "\n",
    "**Implementing Interface** - Implement the NumberGroup interface in a Range class to check if a number is within a range.\n",
    "\n",
    "![Question 4B](https://rackets-assets.vercel.app/assets/2015frq/4b.png)"
   ]
  },
  {
   "cell_type": "code",
   "execution_count": 5,
   "metadata": {},
   "outputs": [
    {
     "name": "stdout",
     "output_type": "stream",
     "text": [
      "true\n",
      "true\n",
      "true\n",
      "false\n",
      "false\n"
     ]
    }
   ],
   "source": [
    "public class Range implements NumberGroup {\n",
    "   private int[] numbers;\n",
    "\n",
    "   // Constructor to initialize the Range with minimum and maximum values\n",
    "   public Range(int min, int max) {\n",
    "       // Calculate the size of the array based on the range\n",
    "       int size = Math.abs(max - min) + 1;\n",
    "       numbers = new int[size];\n",
    "\n",
    "       // Populate the array with numbers within the specified range\n",
    "       for (int i = 0; i < size; i++) {\n",
    "           numbers[i] = min + i;\n",
    "       }\n",
    "   }\n",
    "\n",
    "   // Method to check if a number is within the range\n",
    "   @Override\n",
    "   public boolean contains(int num) {\n",
    "       // Iterate through the array to find if the number exists\n",
    "       for (int n : numbers) {\n",
    "           if (num == n) {\n",
    "               return true; // Number found in the range\n",
    "           }\n",
    "       }\n",
    "       return false; // Number not found in the range\n",
    "   }\n",
    "}\n",
    "\n",
    "// Testing the Range class\n",
    "public class MainTesting {\n",
    "   public static void main(String[] args) {\n",
    "       // Create a Range object with range 5 to 10\n",
    "       NumberGroup range = new Range(5, 10);\n",
    "\n",
    "       // Test cases to check if numbers are within the range\n",
    "       System.out.println(range.contains(5));  // true\n",
    "       System.out.println(range.contains(10)); // true\n",
    "       System.out.println(range.contains(7));  // true\n",
    "       System.out.println(range.contains(4));  // false\n",
    "       System.out.println(range.contains(11)); // false\n",
    "   }\n",
    "}\n",
    "\n",
    "MainTesting.main(null)"
   ]
  },
  {
   "cell_type": "markdown",
   "metadata": {},
   "source": [
    "### Part C\n",
    "\n",
    "**Composite Group** - Create a MultipleGroups class that holds multiple NumberGroup objects and checks if a number is in any of the groups.\n",
    "\n",
    "![Question 4C](https://rackets-assets.vercel.app/assets/2015frq/4c.png)"
   ]
  },
  {
   "cell_type": "code",
   "execution_count": 9,
   "metadata": {},
   "outputs": [],
   "source": [
    "public boolean contains(int num)\n",
    "{\n",
    "   for(NumberGroup n : groupList)\n",
    "      if(n.contains(num))\n",
    "         return true;\n",
    "   return false;\n",
    "}"
   ]
  },
  {
   "cell_type": "code",
   "execution_count": 6,
   "metadata": {},
   "outputs": [
    {
     "name": "stdout",
     "output_type": "stream",
     "text": [
      "Range REPL.$JShell$13C$Range@62a0b8a3 contains 3: true\n",
      "Range REPL.$JShell$13C$Range@643ae4f contains 9: false\n",
      "Range REPL.$JShell$13C$Range@46362ef2 contains 12: false\n",
      "Range REPL.$JShell$13C$Range@62a0b8a3 contains 20: false\n",
      "Range REPL.$JShell$13C$Range@46362ef2 contains 30: false\n"
     ]
    }
   ],
   "source": [
    "public class MultipleGroups {\n",
    "    public static void main(String[] args) {\n",
    "        // Creating ranges\n",
    "        Range range1 = new Range(1, 5);\n",
    "        Range range2 = new Range(10, 15);\n",
    "        Range range3 = new Range(20, 25);\n",
    "\n",
    "        // Testing containment\n",
    "        testContainment(range1, 3);\n",
    "        testContainment(range2, 9);\n",
    "        testContainment(range3, 12);\n",
    "        testContainment(range1, 20);\n",
    "        testContainment(range3, 30);\n",
    "    }\n",
    "\n",
    "    // Method to test containment and print result\n",
    "    private static void testContainment(Range range, int value) {\n",
    "        System.out.println(\"Range \" + range + \" contains \" + value + \": \" + range.contains(value));\n",
    "    }\n",
    "}\n",
    "\n",
    "MultipleGroups.main(null)"
   ]
  }
 ],
 "metadata": {
  "kernelspec": {
   "display_name": "Java",
   "language": "java",
   "name": "java"
  },
  "language_info": {
   "codemirror_mode": "java",
   "file_extension": ".jshell",
   "mimetype": "text/x-java-source",
   "name": "java",
   "pygments_lexer": "java",
   "version": "17.0.9+0"
  }
 },
 "nbformat": 4,
 "nbformat_minor": 2
}
