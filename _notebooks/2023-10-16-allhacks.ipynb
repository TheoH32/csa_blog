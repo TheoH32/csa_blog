{
 "cells": [
  {
   "attachments": {},
   "cell_type": "markdown",
   "metadata": {},
   "source": [
    "---\n",
    "toc: true\n",
    "comments: true\n",
    "layout: post\n",
    "title: Unit 5 Lesson HACKS\n",
    "---"
   ]
  },
  {
   "cell_type": "markdown",
   "metadata": {},
   "source": [
    "5.1-5.3 Popcorn Hacks"
   ]
  },
  {
   "attachments": {},
   "cell_type": "markdown",
   "metadata": {},
   "source": [
    "# Hacks"
   ]
  },
  {
   "attachments": {},
   "cell_type": "markdown",
   "metadata": {},
   "source": [
    "**5.1-5.3 Hacks**\n",
    "\n",
    "**POPCORN HACKS: 0.2**\n",
    "\n",
    "**Create a simple To-Do List that utilizes the following (0.8):**\n",
    "\n",
    "1. Private and Public Declaration\n",
    "\n",
    "2. Constructor\n",
    "\n",
    "3. Mutable Array containing To-Do List Items\n",
    "\n",
    "Make sure to add descriptive comments that are describing your code!"
   ]
  },
  {
   "cell_type": "code",
   "execution_count": 1,
   "metadata": {
    "vscode": {
     "languageId": "java"
    }
   },
   "outputs": [
    {
     "name": "stdout",
     "output_type": "stream",
     "text": [
      "Initial To-Do List:\n",
      "To-Do List for Theo:\n",
      "- Buy groceries\n",
      "- Finish homework\n",
      "- Go to gym\n",
      "\n",
      "Updated To-Do List:\n",
      "To-Do List for Theo:\n",
      "- Buy groceries\n",
      "- Go to gym\n"
     ]
    }
   ],
   "source": [
    "import java.util.ArrayList;\n",
    "\n",
    "public class ToDoList {\n",
    "    // Private member variables\n",
    "    private String ownerName;\n",
    "    private ArrayList<String> tasks;\n",
    "\n",
    "    // Constructor to initialize the To-Do List with an owner's name\n",
    "    public ToDoList(String ownerName) {\n",
    "        this.ownerName = ownerName;\n",
    "        tasks = new ArrayList<>();\n",
    "    }\n",
    "\n",
    "    // Public method to add a task to the To-Do List\n",
    "    public void addTask(String task) {\n",
    "        tasks.add(task);\n",
    "    }\n",
    "\n",
    "    // Public method to remove a task from the To-Do List\n",
    "    public void removeTask(String task) {\n",
    "        tasks.remove(task);\n",
    "    }\n",
    "\n",
    "    // Public method to display the owner's name and all tasks in the To-Do List\n",
    "    public void displayToDoList() {\n",
    "        System.out.println(\"To-Do List for \" + ownerName + \":\");\n",
    "        for (String task : tasks) {\n",
    "            System.out.println(\"- \" + task);\n",
    "        }\n",
    "    }\n",
    "\n",
    "    public static void main(String[] args) {\n",
    "        // Create a To-Do List for a specific owner\n",
    "        ToDoList myToDoList = new ToDoList(\"Theo\");\n",
    "\n",
    "        // Add tasks to the To-Do List\n",
    "        myToDoList.addTask(\"Buy groceries\");\n",
    "        myToDoList.addTask(\"Finish homework\");\n",
    "        myToDoList.addTask(\"Go to gym\");\n",
    "\n",
    "        // Display the To-Do List\n",
    "        System.out.println(\"Initial To-Do List:\");\n",
    "        myToDoList.displayToDoList();\n",
    "\n",
    "        System.out.println();\n",
    "\n",
    "        // Remove a task from the To-Do List\n",
    "        System.out.println(\"Updated To-Do List:\");\n",
    "        myToDoList.removeTask(\"Finish homework\");\n",
    "\n",
    "        // Display the updated To-Do List\n",
    "        myToDoList.displayToDoList();\n",
    "    }\n",
    "}\n",
    "\n",
    "ToDoList.main(null)"
   ]
  },
  {
   "attachments": {},
   "cell_type": "markdown",
   "metadata": {},
   "source": [
    "**5.9-5.10 Hacks**\n",
    "\n",
    "**POPCORN HACKS: 0.2**\n",
    "\n",
    "**Write a two sentence reflection on the social and ethical implications of programming. (0.8)**\n",
    "\n",
    "Coding will often negativly affect your social implications. For example, if you are coding for a long time, you will not be able to spend time with your friends and family. Coding can also affect your ethical implications. For example, if you are coding a game, you might have to make a decision on whether or not to add a feature that might be monetarly aggresive to some people."
   ]
  },
  {
   "cell_type": "markdown",
   "metadata": {},
   "source": [
    "# Popcorn Hacks\n",
    "\n",
    "## I did them in the other notebooks, not trying to combine them all into one"
   ]
  }
 ],
 "metadata": {
  "kernelspec": {
   "display_name": "Java",
   "language": "java",
   "name": "java"
  },
  "language_info": {
   "codemirror_mode": "java",
   "file_extension": ".jshell",
   "mimetype": "text/x-java-source",
   "name": "Java",
   "pygments_lexer": "java",
   "version": "20.0.2"
  },
  "orig_nbformat": 4,
  "vscode": {
   "interpreter": {
    "hash": "e7370f93d1d0cde622a1f8e1c04877d8463912d04d973331ad4851f04de6915a"
   }
  }
 },
 "nbformat": 4,
 "nbformat_minor": 2
}
