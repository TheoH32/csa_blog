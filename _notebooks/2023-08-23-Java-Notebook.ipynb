{
 "cells": [
  {
   "cell_type": "markdown",
   "metadata": {},
   "source": [
    "---\n",
    "comments: true\n",
    "layout: post\n",
    "title: Java Notebook\n",
    "description: testing with Java\n",
    "---"
   ]
  },
  {
   "cell_type": "code",
   "execution_count": 11,
   "metadata": {
    "vscode": {
     "languageId": "java"
    }
   },
   "outputs": [
    {
     "name": "stdout",
     "output_type": "stream",
     "text": [
      " O\n",
      "/|\\\n",
      "/ \\\n",
      "Bob says: Pick Rock (1), Paper (2), or Scissors (3): \n",
      "You picked Scissors\n",
      "Bob Picked Rock\n",
      "You Win!\n"
     ]
    }
   ],
   "source": [
    "import java.util.Scanner;\n",
    "import java.util.Random;\n",
    "\n",
    "public class Game {\n",
    "    public static void main(String[] args) {\n",
    "        System.out.println(\" O\");\n",
    "        System.out.println(\"/|\\\\\");\n",
    "        System.out.println(\"/ \\\\\");\n",
    "        \n",
    "        Scanner scanner = new Scanner(System.in);\n",
    "        System.out.println(\"Bob says: Pick Rock (1), Paper (2), or Scissors (3): \");\n",
    "        String inputString = scanner.nextLine();\n",
    "        int userChoice = 0;  // Use int instead of var to explicitly define the variable type\n",
    "        \n",
    "        if (inputString.equalsIgnoreCase(\"Rock\") || inputString.equals(\"1\")) {\n",
    "            System.out.println(\"You picked Rock\");\n",
    "            userChoice = 1;\n",
    "        } else if (inputString.equalsIgnoreCase(\"Paper\") || inputString.equals(\"2\")) {\n",
    "            System.out.println(\"You picked Paper\");\n",
    "            userChoice = 2;\n",
    "        } else if (inputString.equalsIgnoreCase(\"Scissors\") || inputString.equals(\"3\")) {\n",
    "            System.out.println(\"You picked Scissors\");\n",
    "            userChoice = 3;\n",
    "        } else {\n",
    "            System.out.println(\"You didn't pick Rock, Paper, or Scissors\");\n",
    "            System.out.println(\"Game Over\");\n",
    "            scanner.close();  // Close the scanner before exiting\n",
    "            return;\n",
    "        }\n",
    "        \n",
    "        // Generate Bob's random choice\n",
    "        Random rand = new Random(); \n",
    "        int int_random = rand.nextInt(3) + 1;  // Generate a random number between 1 and 3\n",
    "        \n",
    "        // Check for ties and handle the situation\n",
    "        if (int_random == userChoice) {\n",
    "            System.out.println(\"You and Bob both picked the same choice\");\n",
    "            System.out.println(\"Bob says: Pick Rock (1), Paper (2), or Scissors (3): \");\n",
    "            inputString = scanner.nextLine();\n",
    "            \n",
    "            // Update userChoice based on the new input\n",
    "            if (inputString.equalsIgnoreCase(\"Rock\") || inputString.equals(\"1\")) {\n",
    "                System.out.println(\"You picked Rock\");\n",
    "                userChoice = 1;\n",
    "            } else if (inputString.equalsIgnoreCase(\"Paper\") || inputString.equals(\"2\")) {\n",
    "                System.out.println(\"You picked Paper\");\n",
    "                userChoice = 2;\n",
    "            } else if (inputString.equalsIgnoreCase(\"Scissors\") || inputString.equals(\"3\")) {\n",
    "                System.out.println(\"You picked Scissors\");\n",
    "                userChoice = 3;\n",
    "            } else {\n",
    "                System.out.println(\"You didn't pick Rock, Paper, or Scissors\");\n",
    "                System.out.println(\"Game Over\");\n",
    "                scanner.close();  // Close the scanner before exiting\n",
    "                return;\n",
    "            }\n",
    "        }\n",
    "\n",
    "        if (userChoice == 1 && int_random == 2) {\n",
    "            System.out.println(\"Bob Picked Paper\");\n",
    "            System.out.println(\"Bob Wins!\");\n",
    "        } else if (int_random == 3) {\n",
    "            System.out.println(\"Bob picked Scissors\");\n",
    "            System.out.println(\"You Win!\");\n",
    "        } \n",
    "\n",
    "        if (userChoice == 2 && int_random == 1) {\n",
    "            System.out.println(\"Bob Picked Rock\");\n",
    "            System.out.println(\"You Win!\");\n",
    "        } else if (int_random == 3) {\n",
    "            System.out.println(\"Bob picked Scissors\");\n",
    "            System.out.println(\"Bob Wins!\");\n",
    "        } \n",
    "\n",
    "        if (userChoice == 3 && int_random == 1) {\n",
    "            System.out.println(\"Bob Picked Rock\");\n",
    "            System.out.println(\"You Win!\");\n",
    "        } else if (int_random == 3) {\n",
    "            System.out.println(\"Bob picked Scissors\");\n",
    "            System.out.println(\"You uui!\");\n",
    "        } \n",
    "\n",
    "        // Continue with checking and displaying the winner\n",
    "        // ...\n",
    "\n",
    "        // Close the scanner\n",
    "        scanner.close();\n",
    "    }\n",
    "}\n",
    "\n",
    "Game.main(null);\n",
    "\n"
   ]
  },
  {
   "cell_type": "code",
   "execution_count": null,
   "metadata": {
    "vscode": {
     "languageId": "java"
    }
   },
   "outputs": [],
   "source": []
  }
 ],
 "metadata": {
  "kernelspec": {
   "display_name": "Java",
   "language": "java",
   "name": "java"
  },
  "language_info": {
   "codemirror_mode": "java",
   "file_extension": ".jshell",
   "mimetype": "text/x-java-source",
   "name": "Java",
   "pygments_lexer": "java",
   "version": "20.0.1"
  }
 },
 "nbformat": 4,
 "nbformat_minor": 4
}
