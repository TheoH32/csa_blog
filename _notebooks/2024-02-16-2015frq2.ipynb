{
 "cells": [
  {
   "cell_type": "markdown",
   "metadata": {},
   "source": [
    "---\n",
    "toc: True\n",
    "comments: True\n",
    "layout: post\n",
    "title: Collegeboard 2015 FRQ 2\n",
    "description: Collegeboard 2015 2 FRQ Questions and Answers\n",
    "courses: {'labnotebook': {'week': 24}}\n",
    "type: tangibles\n",
    "---"
   ]
  },
  {
   "cell_type": "markdown",
   "metadata": {},
   "source": [
    "## Question 2\n",
    "\n",
    "**Type:** Method and Control Structures\n",
    "\n",
    "**Blog**\n",
    "This FRQ deals with operations and comparisons with strings. It is (un)surprisingly difficult to cycle through a guess word and provide suggestions based on matching letters and presence in the concealed word. I was able to finish the hidden word challenge by using Java string operations, control structures, and methods.\n",
    "\n",
    "![Question 2](https://rackets-assets.vercel.app/assets/2015frq/2.png)"
   ]
  },
  {
   "cell_type": "code",
   "execution_count": 2,
   "metadata": {
    "vscode": {
     "languageId": "java"
    }
   },
   "outputs": [
    {
     "name": "stdout",
     "output_type": "stream",
     "text": [
      "*+*lo\n"
     ]
    }
   ],
   "source": [
    "public class HiddenWord {\n",
    "    private String hidden;\n",
    "\n",
    "    public HiddenWord(String h) {\n",
    "        hidden = h;\n",
    "    }\n",
    "\n",
    "    public String getHint(String guess) {\n",
    "        StringBuilder hint = new StringBuilder();\n",
    "\n",
    "        for (int i = 0; i < guess.length(); i++) {\n",
    "            char guessedChar = guess.charAt(i);\n",
    "            char hiddenChar = hidden.charAt(i);\n",
    "\n",
    "            if (guessedChar == hiddenChar) {\n",
    "                hint.append(guessedChar);\n",
    "            } else if (hidden.contains(String.valueOf(guessedChar))) {\n",
    "                hint.append(\"+\");\n",
    "            } else {\n",
    "                hint.append(\"*\");\n",
    "            }\n",
    "        }\n",
    "\n",
    "        return hint.toString();\n",
    "    }\n",
    "\n",
    "    // Testing method\n",
    "    public static void main(String[] args) {\n",
    "        HiddenWord hw = new HiddenWord(\"hello\");\n",
    "        System.out.println(hw.getHint(\"blalo\")); // Example usage\n",
    "    }\n",
    "}\n",
    "\n",
    "HiddenWord.main(null)"
   ]
  }
 ],
 "metadata": {
  "kernelspec": {
   "display_name": "Java",
   "language": "java",
   "name": "java"
  },
  "language_info": {
   "codemirror_mode": "java",
   "file_extension": ".jshell",
   "mimetype": "text/x-java-source",
   "name": "Java",
   "pygments_lexer": "java",
   "version": "17.0.9+0"
  }
 },
 "nbformat": 4,
 "nbformat_minor": 2
}
