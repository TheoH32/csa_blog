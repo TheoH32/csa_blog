{
 "cells": [
  {
   "cell_type": "markdown",
   "metadata": {},
   "source": [
    "---\n",
    "layout: post\n",
    "title: Java FRQ Workshop 1\n",
    "description: frq, frq, frq\n",
    "---"
   ]
  },
  {
   "cell_type": "markdown",
   "metadata": {},
   "source": [
    "# Sign FRQ"
   ]
  },
  {
   "cell_type": "markdown",
   "metadata": {},
   "source": [
    "The getLines method returns a String containing the message broken into lines separated by\n",
    "semicolons (;) or returns null if the message is the empty string. The constructor parameter that\n",
    "contains the message to be displayed will not include any semicolons. As an example, in the first row of the\n",
    "preceding table, getLines would return \"Everything on s;ale, please com;e in\"\n",
    "No semicolon should appear at the end of the String returned by getlines."
   ]
  },
  {
   "cell_type": "code",
   "execution_count": 38,
   "metadata": {},
   "outputs": [
    {
     "name": "stdout",
     "output_type": "stream",
     "text": [
      "Number of lines: 3\n",
      "Lines:\n",
      "Hello; Worl;d!;\n"
     ]
    }
   ],
   "source": [
    "public class Sign {\n",
    "    // Initial variables\n",
    "    private int lineWidth;\n",
    "    private String message;\n",
    "\n",
    "    // Constructor with parameter validation\n",
    "    public Sign(int lineWidth, String message) {\n",
    "        if (lineWidth <= 0) {\n",
    "            throw new IllegalArgumentException(\"Line width must be positive\");\n",
    "        }\n",
    "        if (message == null) {\n",
    "            throw new IllegalArgumentException(\"Message cannot be null\");\n",
    "        }\n",
    "        this.lineWidth = lineWidth;\n",
    "        this.message = message;\n",
    "    }\n",
    "\n",
    "    // Calculate number of lines needed for the message\n",
    "    public int numberOfLines() {\n",
    "        int lengthOfMessage = message.length();\n",
    "        int linesNeeded = 1;\n",
    "        while (lengthOfMessage > lineWidth) {\n",
    "            linesNeeded += 1;\n",
    "            lengthOfMessage -= lineWidth;\n",
    "        }\n",
    "        return linesNeeded;\n",
    "    }\n",
    "\n",
    "    // Generate lines based on line width\n",
    "    public String getLines() {\n",
    "        if (message.length() == 0) {\n",
    "            return null;\n",
    "        }\n",
    "        StringBuilder output = new StringBuilder();\n",
    "        int startIndex = 0;\n",
    "        while (startIndex < message.length()) {\n",
    "            int endIndex = Math.min(startIndex + lineWidth, message.length());\n",
    "            output.append(message.substring(startIndex, endIndex)).append(\";\");\n",
    "            startIndex = endIndex;\n",
    "        }\n",
    "        return output.toString();\n",
    "    }\n",
    "\n",
    "    public static void main(String[] args) {\n",
    "        Sign sign = new Sign(5, \"Hello World!\");\n",
    "        System.out.println(\"Number of lines: \" + sign.numberOfLines());\n",
    "        System.out.println(\"Lines:\\n\" + sign.getLines());\n",
    "    }\n",
    "}\n",
    "\n",
    "Sign.main(null)"
   ]
  },
  {
   "cell_type": "markdown",
   "metadata": {},
   "source": [
    "# Textbook Inheritance FRQ"
   ]
  },
  {
   "cell_type": "code",
   "execution_count": 35,
   "metadata": {},
   "outputs": [
    {
     "name": "stdout",
     "output_type": "stream",
     "text": [
      "Book Title: Introduction to Java\n",
      "Book Info: Introduction to Java-29.99\n",
      "Textbook Title: Data Structures and Algorithms\n",
      "Textbook Edition: 2\n",
      "Textbook Info: Data Structures and Algorithms-49.99-2\n",
      "Can substitute for textbook2? true\n"
     ]
    }
   ],
   "source": [
    "public class Book {\n",
    "    private String title;\n",
    "    private double price;\n",
    "\n",
    "    public Book(String bookTitle, double bookPrice) {\n",
    "        this.title = bookTitle; // Initialize the title field\n",
    "        this.price = bookPrice;\n",
    "    }\n",
    "\n",
    "    public String getTitle() { return title; }\n",
    "\n",
    "    public String getBookInfo() {\n",
    "        return title + \"-\" + price;\n",
    "    }\n",
    "}\n",
    "\n",
    "public class Textbook extends Book {\n",
    "    private int edition;\n",
    "\n",
    "    public Textbook(String bookTitle, double bookPrice, int edition) {\n",
    "        super(bookTitle, bookPrice);\n",
    "        this.edition = edition;\n",
    "    }\n",
    "\n",
    "    public int getEdition() {\n",
    "        return edition;\n",
    "    }\n",
    "\n",
    "    // Takes the main constructor\n",
    "    public String getBookInfo() {\n",
    "        return super.getBookInfo() + \"-\" + edition;\n",
    "    }\n",
    "\n",
    "    public boolean canSubstituteFor(Textbook otherTextbook) {\n",
    "        return this.getTitle().equals(otherTextbook.getTitle()) &&\n",
    "                this.getEdition() >= otherTextbook.getEdition();\n",
    "    }\n",
    "}\n",
    "\n",
    "public class BookTester {\n",
    "    public static void main(String[] args) {\n",
    "        // Create a Book object\n",
    "        Book book1 = new Book(\"Introduction to Java\", 29.99);\n",
    "        System.out.println(\"Book Title: \" + book1.getTitle());\n",
    "        System.out.println(\"Book Info: \" + book1.getBookInfo());\n",
    "\n",
    "        // Create a Textbook object\n",
    "        Textbook textbook1 = new Textbook(\"Data Structures and Algorithms\", 49.99, 2);\n",
    "        System.out.println(\"Textbook Title: \" + textbook1.getTitle());\n",
    "        System.out.println(\"Textbook Edition: \" + textbook1.getEdition());\n",
    "        System.out.println(\"Textbook Info: \" + textbook1.getBookInfo());\n",
    "\n",
    "        // Test canSubstituteFor method\n",
    "        Textbook textbook2 = new Textbook(\"Data Structures and Algorithms\", 59.99, 1);\n",
    "        System.out.println(\"Can substitute for textbook2? \" + textbook1.canSubstituteFor(textbook2));\n",
    "    }\n",
    "}\n",
    "\n",
    "BookTester.main(null)"
   ]
  },
  {
   "cell_type": "markdown",
   "metadata": {},
   "source": [
    "# Notes\n",
    "- `super` is used to call the constructor of the superclass\n",
    "- `this` is used to call the constructor of the current class\n",
    "- research primitive and wrapper differences"
   ]
  }
 ],
 "metadata": {
  "kernelspec": {
   "display_name": "Java",
   "language": "java",
   "name": "java"
  },
  "language_info": {
   "codemirror_mode": "java",
   "file_extension": ".jshell",
   "mimetype": "text/x-java-source",
   "name": "java",
   "pygments_lexer": "java",
   "version": "17.0.9+0"
  }
 },
 "nbformat": 4,
 "nbformat_minor": 2
}
