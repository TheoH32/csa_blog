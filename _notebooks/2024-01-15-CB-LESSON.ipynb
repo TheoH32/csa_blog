{
 "cells": [
  {
   "cell_type": "markdown",
   "metadata": {},
   "source": [
    "---\n",
    "layout: post\n",
    "title: Boolean Lesson\n",
    "description: learning during office hours!\n",
    "---"
   ]
  },
  {
   "cell_type": "markdown",
   "metadata": {},
   "source": [
    "![Boolean Picture](/csa_blog/images/booleanPic.jpeg)"
   ]
  },
  {
   "cell_type": "markdown",
   "metadata": {},
   "source": [
    "In this case, the expression (x && y) && !(x // y) can be rewritten as (x && y) && (!x // !y). Using De Morgan's law, this can be further simplified to (!x // !y) && (x && y). This expression is only true if both (!x // !y) and (x && y) are true. However, these two conditions are mutually exclusive. In other words, if one of them is true, the other must be false.\n",
    "\n",
    "Therefore, the expression (x && y) && !(x // y) can never be true, and it will always evaluate to false.\n",
    "\n",
    "Here is a truth table that shows the results of evaluating the expression for all possible values of x and y:\n",
    "\n",
    "| x | y | (x && y) | !(x // y) | (x && y) && !(x // y) |\n",
    "|---|---|---|---|---|\n",
    "| True | True | True | False | False |\n",
    "| True | False | False | True | False |\n",
    "| False | True | False | True | False |\n",
    "| False | False | False | False | False |\n",
    "\n",
    "As you can see, the expression is only false in all cases."
   ]
  },
  {
   "cell_type": "markdown",
   "metadata": {},
   "source": [
    "# Hacks"
   ]
  },
  {
   "cell_type": "markdown",
   "metadata": {},
   "source": [
    "### Make the expression always true\n"
   ]
  }
 ],
 "metadata": {
  "kernelspec": {
   "display_name": "Java",
   "language": "java",
   "name": "java"
  },
  "language_info": {
   "name": "java"
  }
 },
 "nbformat": 4,
 "nbformat_minor": 2
}
