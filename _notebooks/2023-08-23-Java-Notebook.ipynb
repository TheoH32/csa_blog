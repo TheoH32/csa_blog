{
 "cells": [
  {
   "cell_type": "markdown",
   "metadata": {},
   "source": [
    "---\n",
    "comments: true\n",
    "layout: post\n",
    "title: Java Notebook\n",
    "description: testing with Java\n",
    "---"
   ]
  },
  {
   "cell_type": "code",
   "execution_count": 31,
   "metadata": {},
   "outputs": [
    {
     "name": "stdout",
     "output_type": "stream",
     "text": [
      " O\n",
      "/|\\\n",
      "/ \\\n",
      "Bob says: Pick Rock, Paper, or Scissors: You picked Paper\n"
     ]
    }
   ],
   "source": [
    "import java.util.Scanner;\n",
    "\n",
    "public class Game {\n",
    "    public static void main(String[] args) {\n",
    "        System.out.println(\" O\");\n",
    "        System.out.println(\"/|\\\\\");\n",
    "        System.out.println(\"/ \\\\\");\n",
    "        \n",
    "        Scanner scanner = new Scanner(System.in);\n",
    "        System.out.println(\"Bob says: Pick Rock, Paper, or Scissors: \");\n",
    "        String inputString = scanner.nextLine();\n",
    "        int userChoice = 0;  // Initialize the userChoice variable\n",
    "        \n",
    "        if (inputString.equalsIgnoreCase(\"Rock\")) {\n",
    "            System.out.println(\"You picked Rock\");\n",
    "            userChoice = 1;\n",
    "        } else if (inputString.equalsIgnoreCase(\"Paper\")) {\n",
    "            System.out.println(\"You picked Paper\");\n",
    "            userChoice = 2;\n",
    "        } else if (inputString.equalsIgnoreCase(\"Scissors\")) {\n",
    "            System.out.println(\"You picked Scissors\");\n",
    "            userChoice = 3;\n",
    "        } else {\n",
    "            System.out.println(\"You didn't pick Rock, Paper, or Scissors\");\n",
    "        }\n",
    "                    \n",
    "        // Now you can use the userChoice for further processing\n",
    "        \n",
    "        // Don't forget to close the scanner when you're done\n",
    "        scanner.close();\n",
    "    }\n",
    "}\n",
    "\n",
    "Game.main(null)\n"
   ]
  },
  {
   "cell_type": "code",
   "execution_count": null,
   "metadata": {},
   "outputs": [],
   "source": []
  }
 ],
 "metadata": {
  "kernelspec": {
   "display_name": "Java",
   "language": "java",
   "name": "java"
  },
  "language_info": {
   "codemirror_mode": "java",
   "file_extension": ".jshell",
   "mimetype": "text/x-java-source",
   "name": "java",
   "pygments_lexer": "java",
   "version": "20.0.1"
  }
 },
 "nbformat": 4,
 "nbformat_minor": 4
}
