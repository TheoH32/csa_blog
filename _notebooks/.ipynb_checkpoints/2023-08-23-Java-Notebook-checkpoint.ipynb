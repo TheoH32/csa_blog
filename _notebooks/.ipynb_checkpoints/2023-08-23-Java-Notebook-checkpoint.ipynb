{
 "cells": [
  {
   "cell_type": "markdown",
   "metadata": {},
   "source": [
    "---\n",
    "comments: true\n",
    "layout: post\n",
    "title: Java Notebook\n",
    "description: testing with Java\n",
    "---"
   ]
  },
  {
   "cell_type": "code",
   "execution_count": 10,
   "metadata": {
    "vscode": {
     "languageId": "java"
    }
   },
   "outputs": [],
   "source": [
    "class GenerateRandom {\n",
    "  public static void main( String args[] ) {\n",
    "    int min = 50; // Minimum value of range\n",
    "    int max = 100; // Maximum value of range\n",
    "    // Print the min and max  \n",
    "    System.out.println(\"Random value in int from \"+ min + \" to \" + max + \":\");\n",
    "    // Generate random int value from min to max\n",
    "    int random_int = (int)Math.floor(Math.random() * (max - min + 1) + min);\n",
    "    // Printing the generated random numbers\n",
    "    System.out.println(random_int);\n",
    "  }\n",
    "}"
   ]
  },
  {
   "cell_type": "code",
   "execution_count": 13,
   "metadata": {
    "vscode": {
     "languageId": "java"
    }
   },
   "outputs": [],
   "source": [
    "public class StickFigure {\n",
    "    public static void main(String[] args) {\n",
    "        System.out.println(\"  O\");\n",
    "        System.out.println(\" /|\\\\\");\n",
    "        System.out.println(\" / \\\\\");\n",
    "    }\n",
    "}\n"
   ]
  }
 ],
 "metadata": {
  "kernelspec": {
   "display_name": "Java",
   "language": "java",
   "name": "java"
  },
  "language_info": {
   "codemirror_mode": "java",
   "file_extension": ".jshell",
   "mimetype": "text/x-java-source",
   "name": "Java",
   "pygments_lexer": "java",
   "version": "20.0.1"
  },
  "orig_nbformat": 4
 },
 "nbformat": 4,
 "nbformat_minor": 2
}
