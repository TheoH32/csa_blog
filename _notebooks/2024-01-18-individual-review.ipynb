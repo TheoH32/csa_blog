{
 "cells": [
  {
   "cell_type": "markdown",
   "metadata": {},
   "source": [
    "---\n",
    "toc: true\n",
    "comments: true\n",
    "layout: post\n",
    "title: Individual Review\n",
    "description: code code code\n",
    "---"
   ]
  },
  {
   "cell_type": "markdown",
   "metadata": {},
   "source": [
    "# Project: Stocktify\n",
    "\n",
    "\n",
    "- [Sign In](https://theoh32.github.io/csa_blog/2023/10/27/Tri1-Login_IPYNB_2_.html)\n",
    "- [Sign Up](https://theoh32.github.io/csa_blog/2023/10/27/Tri1-Signup_IPYNB_2_.html)\n",
    "- [Local Storage](https://theoh32.github.io/csa_blog/2023/10/27/Local-Storage_IPYNB_2_.html)"
   ]
  },
  {
   "cell_type": "markdown",
   "metadata": {},
   "source": [
    "### Learning: instead of storing user data into local storage, I wanted to shift into jwt"
   ]
  },
  {
   "cell_type": "markdown",
   "metadata": {},
   "source": [
    "# Project: csPrep\n",
    "\n",
    "- [Frontend](https://fttjlr.github.io/csPrep/)\n"
   ]
  },
  {
   "cell_type": "markdown",
   "metadata": {},
   "source": [
    "# Project: Lesson"
   ]
  },
  {
   "cell_type": "markdown",
   "metadata": {},
   "source": [
    "- [Login](https://f1nnc.github.io/Login-Lesson/2024/01/08/Frontend-Login.html)\n"
   ]
  },
  {
   "cell_type": "markdown",
   "metadata": {},
   "source": [
    "# [College Board](https://theoh32.github.io/csa_blog/2023/12/22/MC-Reflection.html)"
   ]
  },
  {
   "cell_type": "markdown",
   "metadata": {},
   "source": [
    "# [Commits](https://github.com/TheoH32?tab=overview&from=2023-06-01&to=2023-06-30)\n",
    "\n",
    "### August: 8\n",
    "### September: 45\n",
    "### October: 88\n",
    "### November: 69\n",
    "### December: 45\n",
    "\n",
    "# Total: 255"
   ]
  },
  {
   "cell_type": "markdown",
   "metadata": {},
   "source": [
    "# Passion\n",
    "\n",
    "- Account system\n",
    "\n",
    "![account](/csa_blog/images/account.png)"
   ]
  }
 ],
 "metadata": {
  "language_info": {
   "name": "python"
  }
 },
 "nbformat": 4,
 "nbformat_minor": 2
}
