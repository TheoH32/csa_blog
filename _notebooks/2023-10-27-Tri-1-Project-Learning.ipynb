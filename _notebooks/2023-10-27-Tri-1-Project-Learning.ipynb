{
 "cells": [
  {
   "cell_type": "markdown",
   "metadata": {},
   "source": [
    "---\n",
    "layout: post\n",
    "title: Tri 1 Project Learning\n",
    "description: so many blogs\n",
    "permalink: /trimester1learning\n",
    "---"
   ]
  },
  {
   "cell_type": "markdown",
   "metadata": {},
   "source": [
    "# \"Blogging may waste your time now, but will save your future later\" -Mr. Mortensen"
   ]
  },
  {
   "cell_type": "markdown",
   "metadata": {},
   "source": [
    "# Major Topics\n",
    "\n",
    "- [Sign In](https://theoh32.github.io/csa_blog/2023/10/27/Tri1-Login_IPYNB_2_.html)\n",
    "- [Sign Up](https://theoh32.github.io/csa_blog/2023/10/27/Tri1-Signup_IPYNB_2_.html)\n",
    "- [Local Storage](https://theoh32.github.io/csa_blog/2023/10/27/Local-Storage_IPYNB_2_.html)"
   ]
  },
  {
   "cell_type": "markdown",
   "metadata": {},
   "source": [
    "# Github Analytics\n",
    "\n",
    "![Github Analytics](/Users/theo/vscode/csa_blog/images/T1GA.png)"
   ]
  },
  {
   "cell_type": "markdown",
   "metadata": {},
   "source": [
    "# College Board Multiple Choice\n",
    "\n",
    "![Q1](/Users/theo/vscode/csa_blog/images/CollegeBoard/Q1.png)\n",
    "# K is incremented by 2 and not 1 so the loop will run less times and be 7 not 17\n",
    "\n",
    "------------------------------------------------------------------------------------------------\n",
    "\n",
    "![Q2](/Users/theo/vscode/csa_blog/images/CollegeBoard/Q2.png)\n",
    "# The answer I chose wasnt correct because it wasnt accessible beyond its scope. I need to include the ()\n",
    "\n",
    "------------------------------------------------------------------------------------------------\n",
    "\n",
    "![Q6](/Users/theo/vscode/csa_blog/images/CollegeBoard/Q6.png)\n",
    "# I just forgot the Math.abs() function\n",
    "\n",
    "------------------------------------------------------------------------------------------------\n",
    "\n",
    "![Q8](/Users/theo/vscode/csa_blog/images/CollegeBoard/Q8.png)\n",
    "# I didn't see the no parameter constructor\n",
    "\n",
    "------------------------------------------------------------------------------------------------\n",
    "\n",
    "![Q15](/Users/theo/vscode/csa_blog/images/CollegeBoard/Q15.png)\n",
    "# I just dont get this one\n",
    "\n",
    "------------------------------------------------------------------------------------------------\n",
    "\n",
    "![Q23](/Users/theo/vscode/csa_blog/images/CollegeBoard/Q23.png)\n",
    "# I just got in my head about this one and picked at random. One of those questions where its so simply you like freak out\n",
    "\n",
    "------------------------------------------------------------------------------------------------\n",
    "\n",
    "![Q24](/Users/theo/vscode/csa_blog/images/CollegeBoard/Q24.png)\n",
    "# Once row is 3, the if condition is true and row is assigned 0 and col is incremented to 1. The algorithm proceeds to fill column 1. When the for loop terminates, newArray contains the following values { {1, 4, 7}, {2, 5, 8}, {3, 6, 9} }. The value of newArray[][2] is 7\n",
    "\n",
    "------------------------------------------------------------------------------------------------\n",
    "\n",
    "![Q31](/Users/theo/vscode/csa_blog/images/CollegeBoard/Q31.png)\n",
    "# Any updates made when mystery is called are being made on the single array that is reference by both data and values so the answer would be 5 7 8 11 19\n",
    "\n",
    "------------------------------------------------------------------------------------------------"
   ]
  },
  {
   "cell_type": "markdown",
   "metadata": {},
   "source": [
    "# Scrum Board and Organization\n",
    "\n",
    "![Board](/Users/theo/vscode/csa_blog/images/scrumboard.png)"
   ]
  },
  {
   "cell_type": "markdown",
   "metadata": {},
   "source": [
    "# Grades\n",
    "- U3: .95\n",
    "- U4: .90\n",
    "- U5: .93\n",
    "- U6: .95\n",
    "- U7: .9\n",
    "- U8: .9\n",
    "\n",
    "Mean: .92"
   ]
  }
 ],
 "metadata": {
  "language_info": {
   "name": "python"
  }
 },
 "nbformat": 4,
 "nbformat_minor": 2
}
