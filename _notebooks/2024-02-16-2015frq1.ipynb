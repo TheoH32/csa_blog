{
 "cells": [
  {
   "cell_type": "markdown",
   "metadata": {},
   "source": [
    "---\n",
    "toc: True\n",
    "comments: True\n",
    "layout: post\n",
    "title: Collegeboard 2015 FRQ 1\n",
    "description: Collegeboard 2015 1 FRQ Questions and Answers\n",
    "courses: {'labnotebook': {'week': 24}}\n",
    "type: tangibles\n",
    "---"
   ]
  },
  {
   "cell_type": "markdown",
   "metadata": {},
   "source": [
    "## Question 1\n",
    "**Type:** Array/2D Array\n",
    "\n",
    "**Blog**\n",
    "This is the frq that I incorporated into our project.\n",
    "\n",
    "### Part A\n",
    "**Calculate Array Sum** - Iterate through an array and sum its elements\n",
    "\n",
    "![Question 1A](https://rackets-assets.vercel.app/assets/2015frq/1a.png)"
   ]
  },
  {
   "cell_type": "code",
   "execution_count": 1,
   "metadata": {
    "vscode": {
     "languageId": "java"
    }
   },
   "outputs": [],
   "source": [
    "    // adds everything in statsArray to calculate \"power\"\n",
    "    public static int arraySum(int[][] statsArray) {\n",
    "      int sum = 0;    // sum initializer\n",
    "  \n",
    "      // Nested loops to iterate over each element of the 2D array\n",
    "      for (int[] row : statsArray) {\n",
    "          for (int num : row) {\n",
    "              sum += num;\n",
    "              System.out.print(num + \"\\t\");  // debug\n",
    "          }\n",
    "      }\n",
    "  \n",
    "      return sum;\n",
    "  }"
   ]
  },
  {
   "cell_type": "code",
   "execution_count": 2,
   "metadata": {
    "vscode": {
     "languageId": "java"
    }
   },
   "outputs": [
    {
     "name": "stdout",
     "output_type": "stream",
     "text": [
      "Original Array: [1, 2, 3]\n",
      "Sum: 6"
     ]
    }
   ],
   "source": [
    "// Testing\n",
    "int[] array = {1, 2, 3};\n",
    "System.out.print(\"Original Array: \");\n",
    "System.out.println(Arrays.toString(array));\n",
    "\n",
    "System.out.print(\"Sum: \");\n",
    "System.out.print(arraySum(array)); // should return 6"
   ]
  },
  {
   "cell_type": "markdown",
   "metadata": {},
   "source": [
    "### Part B\n",
    "\n",
    "**Check Array Diversity** - Use the array sum to determine if arrays are diverse by comparing their sums.\n",
    "\n",
    "![Question 1B](https://rackets-assets.vercel.app/assets/2015frq/1b.png)"
   ]
  },
  {
   "cell_type": "code",
   "execution_count": 3,
   "metadata": {
    "vscode": {
     "languageId": "java"
    }
   },
   "outputs": [],
   "source": [
    "public static int[] rowSums(int[][] statsArray)\n",
    "{\n",
    "   int[] sums = new int[statsArray.length];\n",
    "\n",
    "   for(int i = 0; i < sums.length; i++) {\n",
    "      sums[i] = arraySum(statsArray[i]);\n",
    "   }\n",
    "\n",
    "   return sums;\n",
    "}"
   ]
  },
  {
   "cell_type": "code",
   "execution_count": 11,
   "metadata": {
    "vscode": {
     "languageId": "java"
    }
   },
   "outputs": [
    {
     "name": "stdout",
     "output_type": "stream",
     "text": [
      "Total Healh: \n",
      "200\n",
      "\n",
      "Sum\n",
      "[300, 300]"
     ]
    }
   ],
   "source": [
    "public static int[] rowSums(int[][] statsArray)\n",
    "{\n",
    "   int[] sums = new int[statsArray.length];\n",
    "\n",
    "   for(int i = 0; i < sums.length; i++) {\n",
    "      sums[i] = arraySum(statsArray[i]);\n",
    "   }\n",
    "\n",
    "   return sums;\n",
    "}\n",
    "\n",
    "public static int arraySum(int[] array) {\n",
    "   int sum = 0;\n",
    "   \n",
    "   for (int num : array) {\n",
    "       sum += num;\n",
    "   }\n",
    "   \n",
    "   return sum;\n",
    "}\n",
    "\n",
    "int[][] statsArray = { {100, 200}, {100, 200}};\n",
    "\n",
    "System.out.println(\"Total Healh: \");\n",
    "System.out.print(statsArray[0][1]); // Output: 2\n",
    "\n",
    "System.out.println(\"\\n\\nSum\");\n",
    "System.out.print(Arrays.toString(rowSums(statsArray))); // Output: [6, 15, 24]\n"
   ]
  },
  {
   "cell_type": "markdown",
   "metadata": {},
   "source": [
    "### Part C\n",
    "\n",
    "**Diverse Arrays in 2D Array** - Check each row of a 2D array for diversity using the methods from parts (a) and (b).\n",
    "\n",
    "![Question 1C](https://rackets-assets.vercel.app/assets/2015frq/1c.png)"
   ]
  },
  {
   "cell_type": "code",
   "execution_count": 5,
   "metadata": {
    "vscode": {
     "languageId": "java"
    }
   },
   "outputs": [],
   "source": [
    "public static boolean isDiverse(int[][] arr2D)\n",
    " {\n",
    "    int[] sums = rowSums(arr2D);\n",
    "\n",
    "    for(int i = 0; i < sums.length; i++)\n",
    "       for(int j = i+1; j < sums.length; j++)\n",
    "          if(sums[i] == sums[j])\n",
    "             return false;\n",
    "\n",
    "    return true;\n",
    " }"
   ]
  },
  {
   "cell_type": "markdown",
   "metadata": {},
   "source": [
    "# Has no usuability in our project but included for frq completion"
   ]
  }
 ],
 "metadata": {
  "kernelspec": {
   "display_name": "Java",
   "language": "java",
   "name": "java"
  },
  "language_info": {
   "codemirror_mode": "java",
   "file_extension": ".jshell",
   "mimetype": "text/x-java-source",
   "name": "Java",
   "pygments_lexer": "java",
   "version": "17.0.9+0"
  }
 },
 "nbformat": 4,
 "nbformat_minor": 2
}
