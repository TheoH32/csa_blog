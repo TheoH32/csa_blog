{
 "cells": [
  {
   "cell_type": "markdown",
   "metadata": {},
   "source": [
    "---\n",
    "layout: post\n",
    "title: Bubble \n",
    "description: coding play\n",
    "---"
   ]
  },
  {
   "cell_type": "code",
   "execution_count": 9,
   "metadata": {
    "vscode": {
     "languageId": "java"
    }
   },
   "outputs": [
    {
     "name": "stdout",
     "output_type": "stream",
     "text": [
      "Original array:\n",
      "64 34 25 12 22 11 90 \n",
      "\n",
      "Sorted array:\n",
      "11 12 22 25 34 64 90 "
     ]
    }
   ],
   "source": [
    "public class BubbleSort {\n",
    "    public static void bubbleSort(int[] arr) {\n",
    "        int n = arr.length;\n",
    "        boolean swapped;\n",
    "        for (int i = 0; i < n - 1; i++) {\n",
    "            swapped = false;\n",
    "            for (int j = 0; j < n - i - 1; j++) {\n",
    "                if (arr[j] > arr[j + 1]) {\n",
    "                    // Swap arr[j] and arr[j + 1]\n",
    "                    int temp = arr[j];\n",
    "                    arr[j] = arr[j + 1];\n",
    "                    arr[j + 1] = temp;\n",
    "                    swapped = true;\n",
    "                }\n",
    "            }\n",
    "            // If no two elements were swapped in the inner loop, then the array is already sorted\n",
    "            if (!swapped) {\n",
    "                break;\n",
    "            }\n",
    "        }\n",
    "    }\n",
    "\n",
    "    public static void main(String[] args) {\n",
    "        int[] arr = { 64, 34, 25, 12, 22, 11, 90 };\n",
    "        System.out.println(\"Original array:\");\n",
    "        for (int num : arr) {\n",
    "            System.out.print(num + \" \");\n",
    "        }\n",
    "        bubbleSort(arr);\n",
    "        System.out.println();\n",
    "        System.out.println();\n",
    "        System.out.println(\"Sorted array:\");\n",
    "        for (int num : arr) {\n",
    "            System.out.print(num + \" \");\n",
    "        }\n",
    "    }\n",
    "}\n",
    "\n",
    "BubbleSort.main(null)\n"
   ]
  },
  {
   "cell_type": "markdown",
   "metadata": {},
   "source": [
    "# How it works\n",
    "Start: Begin with an unsorted array of elements.\n",
    "\n",
    "Comparison: Compare the first element with the second element. If the first element is greater than the second element, swap them.\n",
    "\n",
    "Continue Comparing: Continue comparing adjacent elements throughout the array, swapping them if they are in the wrong order. After the first iteration, the largest element will be at the end of the array.\n",
    "\n",
    "Repeat: Repeat steps 2 and 3 for the remaining elements, excluding the last sorted element in each iteration (since it's already in its correct position).\n",
    "\n",
    "Completion: Continue this process until no more swaps are needed, indicating that the array is sorted."
   ]
  },
  {
   "cell_type": "markdown",
   "metadata": {},
   "source": [
    "# Our Script\n",
    "## My role\n",
    "Theo - Fraternity Jock\n",
    "Var jacket, polo, red cup \n",
    "\n",
    "\n",
    "Theo (Bachelor Winner):\n",
    "\"Rachilita, you've got me 'forking' over my heart to you, eager to 'merge' our paths and 'push' forward together!\" ❤️\n"
   ]
  }
 ],
 "metadata": {
  "kernelspec": {
   "display_name": "Java",
   "language": "java",
   "name": "java"
  },
  "language_info": {
   "codemirror_mode": "java",
   "file_extension": ".jshell",
   "mimetype": "text/x-java-source",
   "name": "Java",
   "pygments_lexer": "java",
   "version": "17.0.9+0"
  }
 },
 "nbformat": 4,
 "nbformat_minor": 2
}
