{
 "cells": [
  {
   "cell_type": "markdown",
   "metadata": {},
   "source": [
    "---\n",
    "layout: post\n",
    "title: Local Storage\n",
    "description: how to use in your project\n",
    "---"
   ]
  },
  {
   "cell_type": "markdown",
   "metadata": {},
   "source": [
    "## What is local storage?\n",
    "\n",
    "Local storage is a way to store data on the client side, even when the browser is closed. It is different from session storage, which stores data for the current session only.\n",
    "\n",
    "Local storage is often used to store user preferences, such as language settings or login information. It can also be used to store data for web applications, such as game progress or shopping cart items.\n",
    "\n",
    "## How to use local storage in JavaScript\n",
    "\n",
    "There are two main ways to use local storage in JavaScript:\n",
    "\n",
    "1. **Using the `localStorage` object**\n",
    "\n",
    "The `localStorage` object is a global object that provides access to local storage data. To use the `localStorage` object, you first need to get a reference to it:"
   ]
  },
  {
   "cell_type": "code",
   "execution_count": null,
   "metadata": {},
   "outputs": [],
   "source": [
    "// Set a value in local storage\n",
    "localStorage.setItem(\"key\", \"value\");\n",
    "\n",
    "const value = localStorage.getItem(\"key\");\n",
    "\n",
    "// Remove a value from local storage\n",
    "localStorage.removeItem(\"key\");"
   ]
  },
  {
   "cell_type": "markdown",
   "metadata": {},
   "source": [
    "# Usage\n",
    "\n",
    "- If you need a variable or important data throughout multiple files\n",
    "- If you need to store data on the client side\n",
    "- If you need to store data that is not sensitive\n",
    "\n",
    "Example: I used it to store a stock that the user selected so that when they loaded a new page, the stock would still be there."
   ]
  }
 ],
 "metadata": {
  "kernelspec": {
   "display_name": "Java",
   "language": "java",
   "name": "java"
  },
  "language_info": {
   "codemirror_mode": "java",
   "file_extension": ".jshell",
   "mimetype": "text/x-java-source",
   "name": "java",
   "pygments_lexer": "java",
   "version": "20.0.2"
  }
 },
 "nbformat": 4,
 "nbformat_minor": 2
}
